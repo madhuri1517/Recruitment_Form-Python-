{
 "cells": [
  {
   "cell_type": "code",
   "execution_count": 2,
   "metadata": {},
   "outputs": [],
   "source": [
    "from tkinter import *\n",
    "from tkinter import ttk\n",
    "window = Tk()\n",
    "window.title(\"Career Oppertunities in Capgemini\")\n",
    "window.geometry('500x500')\n",
    "window.configure(background = \"yellow\");\n",
    "a = Label(window ,text = \"Name\", width=10, font=(\"bold\",10)).grid(row = 0, column=0)\n",
    "a1 = Entry(window, width=50).grid(row = 0,column = 1)\n",
    "\n",
    "b = Label(window ,text = \"Address\", width=10, font=(\"bold\",10)).grid(row = 1,column = 0)\n",
    "b1 = Entry(window, width=50).grid(row = 1,column = 1)\n",
    "\n",
    "c = Label(window ,text = \"Email Id\", width=10, font=(\"bold\",10)).grid(row = 2,column = 0)\n",
    "c1 = Entry(window, width=50).grid(row = 2,column = 1)\n",
    "\n",
    "d = Label(window ,text = \"Contact Number\", width=15, font=(\"bold\",10)).grid(row = 3,column = 0)\n",
    "d1 = Entry(window, width=50).grid(row = 3,column = 1)\n",
    "\n",
    "e = Label(window, text = \"Qualification\", width=10, font=(\"bold\",10)).grid(row = 4, column = 0)\n",
    "\n",
    "var = IntVar()\n",
    "Radiobutton(window, text=\"BE/ B.Tech in Informatoion Technology\", padx=5, variable=var, value=1).grid(row=5, column=1)\n",
    "Radiobutton(window, text=\"BE/ B.Tech in Electrical\", padx=5, variable=var, value=2).grid(row=6, column=1)\n",
    "Radiobutton(window, text=\"BE/ B.Tech in Electronic\", padx=5, variable=var, value=3).grid(row=7, column=1)\n",
    "Radiobutton(window, text=\"BE/ B.Tech in Electronic and Telecommunication\", padx=5, variable=var, value=4).grid(row=8, column=1)\n",
    "Radiobutton(window, text=\"BE/ B.Tech in Computer Science\", padx=5, variable=var, value=5).grid(row=9, column=1)\n",
    "\n",
    "f=Label(window, text=\"Year of Passing\", width=15, font=(\"bold\",10)).grid(row=10, column=0)\n",
    "f1=Entry(window, width=50).grid(row=10, column=1)\n",
    "\n",
    "g=Label(window, text=\"Year of experience\", width=25, font=(\"bold\",10)).grid (row=11, column=0)\n",
    "g1=Entry(window, width=50).grid (row=11, column=1)\n",
    "\n",
    "h=Label(window, text=\"Name of Current Orgranization\",width=30,font=(\"bold\",10)).grid (row=12, column=0)\n",
    "h1=Entry(window, width=50).grid(row=12, column=1)\n",
    "\n",
    "i=Label(window, text=\"Role of Experience\",width=15,font=(\"bold\",10)).grid(row=13, column=0)\n",
    "i1=Entry(window, width=50).grid(row=13,column=1)\n",
    "\n",
    "j=Label(window, text=\"Current CTC\",width=15, font=(\"bold\",10)).grid(row=14,column=0)\n",
    "j1=Entry(window, width=50).grid(row=14, column=1)\n",
    "\n",
    "k=Label(window, text=\"Additional Certificate(If any)\", width=35, font=(\"bold\",10)).grid(row=15, column=0)\n",
    "k1=Entry(window, width=50).grid(row=15, column=1)\n",
    "\n",
    "btn = ttk.Button(window ,text=\"Submit\", width=15).grid(row=18,column=1)\n",
    "\n",
    "window.mainloop()"
   ]
  },
  {
   "cell_type": "code",
   "execution_count": null,
   "metadata": {},
   "outputs": [],
   "source": []
  }
 ],
 "metadata": {
  "kernelspec": {
   "display_name": "Python 3",
   "language": "python",
   "name": "python3"
  },
  "language_info": {
   "codemirror_mode": {
    "name": "ipython",
    "version": 3
   },
   "file_extension": ".py",
   "mimetype": "text/x-python",
   "name": "python",
   "nbconvert_exporter": "python",
   "pygments_lexer": "ipython3",
   "version": "3.8.5"
  }
 },
 "nbformat": 4,
 "nbformat_minor": 4
}
